{
 "cells": [
  {
   "cell_type": "code",
   "execution_count": 1,
   "metadata": {},
   "outputs": [],
   "source": [
    "import torch"
   ]
  },
  {
   "cell_type": "markdown",
   "metadata": {},
   "source": [
    "# Define Problem"
   ]
  },
  {
   "cell_type": "code",
   "execution_count": null,
   "metadata": {},
   "outputs": [],
   "source": [
    "#Define clustering funciton\n",
    "def clustering(t):\n",
    "  n = t // (4* torch.pi)\n",
    "  t_proj = t - n*4* torch.pi\n",
    "  if t_proj < 2* torch.pi:\n",
    "    #then we are in cluster A\n",
    "    return (0,t_proj)\n",
    "  else:\n",
    "    #then we are in cluster B\n",
    "    return (1, t_proj)"
   ]
  },
  {
   "cell_type": "code",
   "execution_count": null,
   "metadata": {},
   "outputs": [],
   "source": [
    "#Define data function\n",
    "def f(t):\n",
    "  clustering_t = clustering(t)\n",
    "  if clustering_t[0] == 0:\n",
    "    return 2* torch.sin(t)\n",
    "  else:\n",
    "    return torch.sin(2* t)"
   ]
  },
  {
   "cell_type": "code",
   "execution_count": null,
   "metadata": {},
   "outputs": [],
   "source": [
    "#exact solution to IVP\n",
    "def exact_sol(t):\n",
    "  clustering_t = clustering(t)\n",
    "  if clustering_t[0] == 0:\n",
    "    return -2* torch.cos(t)+2\n",
    "  else:\n",
    "    return - torch.cos(2* t) /2 +1/2"
   ]
  }
 ],
 "metadata": {
  "kernelspec": {
   "display_name": "Python 3",
   "language": "python",
   "name": "python3"
  },
  "language_info": {
   "codemirror_mode": {
    "name": "ipython",
    "version": 3
   },
   "file_extension": ".py",
   "mimetype": "text/x-python",
   "name": "python",
   "nbconvert_exporter": "python",
   "pygments_lexer": "ipython3",
   "version": "3.12.3"
  }
 },
 "nbformat": 4,
 "nbformat_minor": 2
}
